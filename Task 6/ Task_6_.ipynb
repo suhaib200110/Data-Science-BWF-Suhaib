{
  "nbformat": 4,
  "nbformat_minor": 0,
  "metadata": {
    "colab": {
      "provenance": [],
      "authorship_tag": "ABX9TyNoGmqdEalyBfpiYng3I9zL"
    },
    "kernelspec": {
      "name": "python3",
      "display_name": "Python 3"
    },
    "language_info": {
      "name": "python"
    }
  },
  "cells": [
    {
      "cell_type": "markdown",
      "source": [
        "# Task 6"
      ],
      "metadata": {
        "id": "JiRY-MUF7pqq"
      }
    },
    {
      "cell_type": "code",
      "source": [
        "class Student:\n",
        "    def __init__(self, name, age, grade):\n",
        "        self.name = name\n",
        "        self.age = age\n",
        "        self.grade = grade\n",
        "\n",
        "    def display(self):\n",
        "      print(f\"Name: {self.name}, Age: {self.age}, Grade: {self.grade}\")"
      ],
      "metadata": {
        "id": "tZAAyt2c9PhJ"
      },
      "execution_count": 1,
      "outputs": []
    },
    {
      "cell_type": "code",
      "source": [
        "Student1 = Student(\"Suhaib\", 20, 'A')\n",
        "Student1.display()"
      ],
      "metadata": {
        "id": "PaN5C7tY_OpI",
        "outputId": "81f24a68-a9c0-4243-c78b-d1bf84117d47",
        "colab": {
          "base_uri": "https://localhost:8080/"
        }
      },
      "execution_count": 4,
      "outputs": [
        {
          "output_type": "stream",
          "name": "stdout",
          "text": [
            "Name: Suhaib, Age: 20, Grade: A\n"
          ]
        }
      ]
    },
    {
      "cell_type": "code",
      "source": [
        "class Employee:\n",
        "  def __init__(self,name, desingnation):\n",
        "    self.name = name\n",
        "    self.desingnation = desingnation\n",
        "    # self.salary = salary\n",
        "  def salary_cal(self):\n",
        "    salary=0\n",
        "    if (self.desingnation=='BPS 17'):\n",
        "      salary=100000\n",
        "    elif (self.desingnation=='BPS 18'):\n",
        "      self.salary = 150000 ;\n",
        "    else :\n",
        "      print(\"Invalid Desingnation\")\n",
        "    return salary\n"
      ],
      "metadata": {
        "id": "yJYkEMo7B__f"
      },
      "execution_count": 3,
      "outputs": []
    },
    {
      "cell_type": "code",
      "source": [
        "Emp1 = Employee(\"Suhaib\", \"BPS 17\")\n",
        "salary_emp1 = Emp1.salary_cal()\n",
        "print(salary_emp1)"
      ],
      "metadata": {
        "id": "ypJzh2mVT9LL",
        "outputId": "a5854a85-c6fb-41f3-c779-44a768ccd7eb",
        "colab": {
          "base_uri": "https://localhost:8080/"
        }
      },
      "execution_count": 6,
      "outputs": [
        {
          "output_type": "stream",
          "name": "stdout",
          "text": [
            "100000\n"
          ]
        }
      ]
    }
  ]
}