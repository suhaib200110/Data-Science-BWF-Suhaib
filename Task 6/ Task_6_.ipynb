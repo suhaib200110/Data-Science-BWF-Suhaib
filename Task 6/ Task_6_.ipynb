{
  "nbformat": 4,
  "nbformat_minor": 0,
  "metadata": {
    "colab": {
      "provenance": [],
      "authorship_tag": "ABX9TyOnhLjjC4cLAxnDLCMy90bK"
    },
    "kernelspec": {
      "name": "python3",
      "display_name": "Python 3"
    },
    "language_info": {
      "name": "python"
    }
  },
  "cells": [
    {
      "cell_type": "code",
      "execution_count": null,
      "metadata": {
        "id": "nHMx_dex02Ov"
      },
      "outputs": [],
      "source": [
        "print('Updating')"
      ]
    }
  ]
}