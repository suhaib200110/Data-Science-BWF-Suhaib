{
  "nbformat": 4,
  "nbformat_minor": 0,
  "metadata": {
    "colab": {
      "provenance": [],
      "authorship_tag": "ABX9TyOOrX7MTik2qNfpQXCdFDhv",
      "include_colab_link": true
    },
    "kernelspec": {
      "name": "python3",
      "display_name": "Python 3"
    },
    "language_info": {
      "name": "python"
    }
  },
  "cells": [
    {
      "cell_type": "markdown",
      "metadata": {
        "id": "view-in-github",
        "colab_type": "text"
      },
      "source": [
        "<a href=\"https://colab.research.google.com/github/suhaib200110/Data-Science-BWF-Suhaib/blob/main/Task_4.ipynb\" target=\"_parent\"><img src=\"https://colab.research.google.com/assets/colab-badge.svg\" alt=\"Open In Colab\"/></a>"
      ]
    },
    {
      "cell_type": "markdown",
      "source": [
        "# Task 4"
      ],
      "metadata": {
        "id": "GjOwEZ_sQ-m5"
      }
    },
    {
      "cell_type": "markdown",
      "source": [
        "### Strings"
      ],
      "metadata": {
        "id": "mRE6JzefRFce"
      }
    },
    {
      "cell_type": "code",
      "execution_count": 10,
      "metadata": {
        "colab": {
          "base_uri": "https://localhost:8080/"
        },
        "id": "4HoA0MPOFbkz",
        "outputId": "58c61765-ad78-429f-e0f5-1ae47acb72e5"
      },
      "outputs": [
        {
          "output_type": "stream",
          "name": "stdout",
          "text": [
            "Hello World\n"
          ]
        }
      ],
      "source": [
        "print(\"Hello World\")"
      ]
    },
    {
      "cell_type": "code",
      "source": [
        "name = 'Suhaib'\n",
        "print(f'User Name: {name}')"
      ],
      "metadata": {
        "colab": {
          "base_uri": "https://localhost:8080/"
        },
        "id": "zG3p73t0F0g4",
        "outputId": "686ddff7-7efa-4c0a-f4ef-a447cdbffe01"
      },
      "execution_count": 11,
      "outputs": [
        {
          "output_type": "stream",
          "name": "stdout",
          "text": [
            "User Name: Suhaib\n"
          ]
        }
      ]
    },
    {
      "cell_type": "markdown",
      "source": [
        "### If else statements"
      ],
      "metadata": {
        "id": "gzqf2IL6RTPj"
      }
    },
    {
      "cell_type": "code",
      "source": [
        "if (name == 'Suhaib'):\n",
        "  print('Hello Suhaib')\n",
        "else:\n",
        "  print('Hello World')"
      ],
      "metadata": {
        "colab": {
          "base_uri": "https://localhost:8080/"
        },
        "id": "DnKocz39N_eT",
        "outputId": "f154d2ed-d398-4a24-bb98-df3d9f7aca33"
      },
      "execution_count": 12,
      "outputs": [
        {
          "output_type": "stream",
          "name": "stdout",
          "text": [
            "Hello Suhaib\n"
          ]
        }
      ]
    }
  ]
}