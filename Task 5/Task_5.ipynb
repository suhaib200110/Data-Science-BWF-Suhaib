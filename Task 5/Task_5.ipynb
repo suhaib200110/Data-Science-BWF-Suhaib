{
  "nbformat": 4,
  "nbformat_minor": 0,
  "metadata": {
    "colab": {
      "provenance": [],
      "authorship_tag": "ABX9TyMZQrDgDp7Zjx2sPtTufjH7",
      "include_colab_link": true
    },
    "kernelspec": {
      "name": "python3",
      "display_name": "Python 3"
    },
    "language_info": {
      "name": "python"
    }
  },
  "cells": [
    {
      "cell_type": "markdown",
      "metadata": {
        "id": "view-in-github",
        "colab_type": "text"
      },
      "source": [
        "<a href=\"https://colab.research.google.com/github/suhaib200110/Data-Science-BWF-Suhaib/blob/main/Task%205/Task_5.ipynb\" target=\"_parent\"><img src=\"https://colab.research.google.com/assets/colab-badge.svg\" alt=\"Open In Colab\"/></a>"
      ]
    },
    {
      "cell_type": "markdown",
      "source": [
        "Q : Convert two lists into a dictionary. Given the following lists:\n",
        "\n",
        "keys = ['Ten', 'Twenty', 'Thirty']\n",
        "\n",
        "values = [10, 20, 30]\n"
      ],
      "metadata": {
        "id": "ga1OuifQzxYt"
      }
    },
    {
      "cell_type": "code",
      "execution_count": 1,
      "metadata": {
        "colab": {
          "base_uri": "https://localhost:8080/"
        },
        "id": "6nmeVPmSwg-b",
        "outputId": "ed1ff675-b40e-4804-912c-595eee8f1f9f"
      },
      "outputs": [
        {
          "output_type": "stream",
          "name": "stdout",
          "text": [
            "{'Ten': 10, 'Twenty': 20, 'Thirty': 30}\n"
          ]
        }
      ],
      "source": [
        "keys = ['Ten', 'Twenty', 'Thirty']\n",
        "values = [10, 20, 30]\n",
        "\n",
        "combined_dic = dict(zip(keys, values))\n",
        "print(combined_dic)"
      ]
    },
    {
      "cell_type": "markdown",
      "source": [
        "Q : Merge two Python dictionaries into one. Given the following dictionaries:\n",
        "\n",
        "dict1 = {'Ten': 10, 'Twenty': 20, 'Thirty': 30}\n",
        "\n",
        "dict2 = {'Thirty': 30, 'Fourty': 40, 'Fifty': 50}\n"
      ],
      "metadata": {
        "id": "RpzSPLfs0jDv"
      }
    },
    {
      "cell_type": "code",
      "source": [
        "dict1 = {'Ten': 10, 'Twenty': 20, 'Thirty': 30}\n",
        "dict2 = {'Thirty': 30, 'Fourty': 40, 'Fifty': 50}\n",
        "\n",
        "com_dic = {}\n",
        "\n",
        "for key,value in zip(dict1.keys(),dict1.values()):\n",
        "    com_dic[key] = value\n",
        "for key,value in zip(dict2.keys(),dict2.values()):\n",
        "    com_dic[key] = value\n",
        "print(com_dic)\n"
      ],
      "metadata": {
        "colab": {
          "base_uri": "https://localhost:8080/"
        },
        "id": "0pq7x9ax0n4d",
        "outputId": "e89190c9-b791-43e7-a6f5-e551d975e834"
      },
      "execution_count": 6,
      "outputs": [
        {
          "output_type": "stream",
          "name": "stdout",
          "text": [
            "{'Ten': 10, 'Twenty': 20, 'Thirty': 30, 'Fourty': 40, 'Fifty': 50}\n"
          ]
        }
      ]
    },
    {
      "cell_type": "markdown",
      "source": [
        "Q3 : Exercise 3: Print the value of the key 'history' from the following nested dictionary:\n",
        "\n",
        "sampleDict = {\n",
        "    \"class\": {\n",
        "        \"student\": {\n",
        "            \"name\": \"Mike\",\n",
        "            \"marks\": {\n",
        "                \"physics\": 70,\n",
        "                \"history\": 80\n",
        "            }\n",
        "        }\n",
        "    }\n",
        "}\n"
      ],
      "metadata": {
        "id": "w74qXlE-2pNx"
      }
    },
    {
      "cell_type": "code",
      "source": [
        "sampleDict = {\n",
        "    \"class\": {\n",
        "        \"student\": {\n",
        "            \"name\": \"Mike\",\n",
        "            \"marks\": {\n",
        "                \"physics\": 70,\n",
        "                \"history\": 80\n",
        "            }\n",
        "        }\n",
        "    }\n",
        "}\n",
        "print(sampleDict['class']['student']['marks']['history'])"
      ],
      "metadata": {
        "colab": {
          "base_uri": "https://localhost:8080/"
        },
        "id": "L1feXZXY24Fw",
        "outputId": "257ef519-d0af-44ec-f4c0-1a1b47268461"
      },
      "execution_count": 13,
      "outputs": [
        {
          "output_type": "stream",
          "name": "stdout",
          "text": [
            "80\n"
          ]
        }
      ]
    },
    {
      "cell_type": "markdown",
      "source": [
        "Q : Initialize a dictionary with default values. Given the list of employees and default values:\n",
        "\n",
        "employees = ['Kelly', 'Emma']\n",
        "\n",
        "defaults = {\"designation\": 'Developer', \"salary\": 8000}"
      ],
      "metadata": {
        "id": "-p3mAV9Z3zRX"
      }
    },
    {
      "cell_type": "code",
      "source": [
        "employees = ['Kelly', 'Emma']\n",
        "defaults = {\"designation\": 'Developer', \"salary\": 8000}\n",
        "new_dict = {}\n",
        "for i in employees:\n",
        "    new_dict[i] = defaults\n",
        "print(new_dict)\n"
      ],
      "metadata": {
        "colab": {
          "base_uri": "https://localhost:8080/"
        },
        "id": "iT64WkC940AS",
        "outputId": "c4aff8f4-03de-439c-971d-2fa355fc33b9"
      },
      "execution_count": 16,
      "outputs": [
        {
          "output_type": "stream",
          "name": "stdout",
          "text": [
            "{'Kelly': {'designation': 'Developer', 'salary': 8000}, 'Emma': {'designation': 'Developer', 'salary': 8000}}\n"
          ]
        }
      ]
    }
  ]
}