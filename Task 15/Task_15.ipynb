{
  "nbformat": 4,
  "nbformat_minor": 0,
  "metadata": {
    "colab": {
      "provenance": [],
      "authorship_tag": "ABX9TyPJS4iBfLhT/grpXxDkWij1"
    },
    "kernelspec": {
      "name": "python3",
      "display_name": "Python 3"
    },
    "language_info": {
      "name": "python"
    }
  },
  "cells": [
    {
      "cell_type": "markdown",
      "source": [
        "# Advanced Numpy (reshape , concatenate, splitting , hsplit etc)"
      ],
      "metadata": {
        "id": "eOJSu1hIkcEl"
      }
    },
    {
      "cell_type": "code",
      "source": [
        "import numpy as np\n",
        "from scipy import stats\n",
        "\n",
        "arr = np.arange(12)\n",
        "reshaped_arr = arr.reshape(3, 4)\n",
        "reshaped_3d_arr = arr.reshape(2, 2, 3)\n",
        "\n",
        "arr1 = np.array([[1, 2], [3, 4]])\n",
        "arr2 = np.array([[5, 6]])\n",
        "concat_arr = np.concatenate((arr1, arr2), axis=0)\n",
        "\n",
        "arr3 = np.array([[7], [8]])\n",
        "concat_arr_col = np.concatenate((arr1, arr3), axis=1)\n",
        "\n",
        "arr = np.arange(9).reshape(3, 3)\n",
        "split_arr = np.split(arr, 3, axis=0)\n",
        "split_arr_col = np.split(arr, 3, axis=1)\n",
        "\n",
        "hsplit_arr = np.hsplit(arr, 3)\n",
        "vsplit_arr = np.vsplit(arr, 3)\n",
        "\n",
        "arr = np.array([[1, 2, 3], [4, 5, 6]])\n",
        "appended_arr = np.append(arr, [[7, 8, 9]], axis=0)\n",
        "appended_arr_col = np.append(arr, [[7], [8]], axis=1)\n",
        "\n",
        "arr1 = np.array([1, 2, 3])\n",
        "arr2 = np.array([4, 5, 6])\n",
        "hstack_arr = np.hstack((arr1, arr2))\n",
        "vstack_arr = np.vstack((arr1, arr2))\n",
        "print(vstack_arr)\n",
        "arr = np.array([[[1], [2], [3]]])\n",
        "squeezed_arr = np.squeeze(arr)\n",
        "print(squeezed_arr)\n",
        "arr = np.array([1, 2, 3])\n",
        "expanded_arr = np.expand_dims(arr, axis=0)\n",
        "expanded_arr_1 = np.expand_dims(arr, axis=1)\n",
        "print(expanded_arr)\n",
        "print(expanded_arr_1)\n",
        "arr = np.array([[1, 2], [3, 4]])\n",
        "flattened_arr_ravel = np.ravel(arr)\n",
        "flattened_arr_flatten = arr.flatten()\n",
        "print(flattened_arr_flatten)"
      ],
      "metadata": {
        "colab": {
          "base_uri": "https://localhost:8080/"
        },
        "id": "di4bAaV9WaIB",
        "outputId": "b18e2910-e608-42b8-a426-e8dfae39587c"
      },
      "execution_count": 12,
      "outputs": [
        {
          "output_type": "stream",
          "name": "stdout",
          "text": [
            "[[1 2 3]\n",
            " [4 5 6]]\n",
            "[1 2 3]\n",
            "[[1 2 3]]\n",
            "[[1]\n",
            " [2]\n",
            " [3]]\n",
            "[1 2 3 4]\n"
          ]
        }
      ]
    }
  ]
}