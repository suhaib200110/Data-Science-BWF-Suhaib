{
  "nbformat": 4,
  "nbformat_minor": 0,
  "metadata": {
    "colab": {
      "provenance": [],
      "authorship_tag": "ABX9TyP/ga00JbyPACTpoAO2Xy+4",
      "include_colab_link": true
    },
    "kernelspec": {
      "name": "python3",
      "display_name": "Python 3"
    },
    "language_info": {
      "name": "python"
    }
  },
  "cells": [
    {
      "cell_type": "markdown",
      "metadata": {
        "id": "view-in-github",
        "colab_type": "text"
      },
      "source": [
        "<a href=\"https://colab.research.google.com/github/suhaib200110/Data-Science-BWF-Suhaib/blob/main/MiniProject%201%20/%20MiniProject%201.ipynb\" target=\"_parent\"><img src=\"https://colab.research.google.com/assets/colab-badge.svg\" alt=\"Open In Colab\"/></a>"
      ]
    },
    {
      "cell_type": "markdown",
      "source": [
        "# Miniproject"
      ],
      "metadata": {
        "id": "di7F7029Z-iy"
      }
    },
    {
      "cell_type": "code",
      "execution_count": 4,
      "metadata": {
        "colab": {
          "base_uri": "https://localhost:8080/"
        },
        "id": "CI9m9-MVZ7YU",
        "outputId": "6b0d5753-c7bb-4c35-e669-0b05626c2306"
      },
      "outputs": [
        {
          "output_type": "stream",
          "name": "stdout",
          "text": [
            "Enter first number: 4\n",
            "Enter second number: 5\n",
            "Enter operation: *\n",
            "20\n"
          ]
        }
      ],
      "source": [
        "class Calculator:\n",
        "    def __init__(self,num1,num2,operation):\n",
        "        self.num1 = int(num1)\n",
        "        self.num2 = int(num2)\n",
        "        self.operation = operation\n",
        "\n",
        "    def add(self):\n",
        "        return self.num1 + self.num2\n",
        "\n",
        "    def subtract(self):\n",
        "        return self.num1 - self.num2\n",
        "\n",
        "    def multiply(self):\n",
        "        self.num1 * self.num2\n",
        "        return self.num1 * self.num2\n",
        "\n",
        "    def divide(self):\n",
        "        return self.num1 / self.num2\n",
        "\n",
        "num1 = input(\"Enter first number: \")\n",
        "num2 = input(\"Enter second number: \")\n",
        "operation = input(\"Enter operation: \")\n",
        "\n",
        "calc = Calculator(num1,num2,operation)\n",
        "\n",
        "if operation == \"+\":\n",
        "    print(calc.add())\n",
        "elif operation == \"-\":\n",
        "    print(calc.subtract())\n",
        "elif operation == \"*\":\n",
        "    print(calc.multiply())\n",
        "elif operation == \"/\":\n",
        "    print(calc.divide())"
      ]
    }
  ]
}